{
  "nbformat": 4,
  "nbformat_minor": 0,
  "metadata": {
    "colab": {
      "provenance": [],
      "authorship_tag": "ABX9TyMrCrebYfSDCwDDGnGIFSMz",
      "include_colab_link": true
    },
    "kernelspec": {
      "name": "python3",
      "display_name": "Python 3"
    },
    "language_info": {
      "name": "python"
    }
  },
  "cells": [
    {
      "cell_type": "markdown",
      "metadata": {
        "id": "view-in-github",
        "colab_type": "text"
      },
      "source": [
        "<a href=\"https://colab.research.google.com/github/kalpeshdhamanse04/DS_PY_writeups_2102611/blob/main/2102611.ipynb\" target=\"_parent\"><img src=\"https://colab.research.google.com/assets/colab-badge.svg\" alt=\"Open In Colab\"/></a>"
      ]
    },
    {
      "cell_type": "markdown",
      "source": [
        "Q2. Upload your data set to your drive (any mail id) and show how to access it into the Colab environment. Show the shape and size of the data set."
      ],
      "metadata": {
        "id": "6kboHyepchzo"
      }
    },
    {
      "cell_type": "code",
      "source": [
        "import pandas as pd\n",
        "\n",
        "read_file= pd.read_cvs(r/bank-additional 1.zip,)\n",
        "read_file= pd.read_cvs(r/bank-additional-full.csv,index.null)"
      ],
      "metadata": {
        "id": "UpDNyE6ycjJh"
      },
      "execution_count": null,
      "outputs": []
    },
    {
      "cell_type": "markdown",
      "source": [
        "Q3. subset any 2 numeric columns from the data set and create a separate variable to store them. Show a statistical summary of the two. Check if there are any missing values in the columns."
      ],
      "metadata": {
        "id": "xdZU6oGZjn0p"
      }
    },
    {
      "cell_type": "code",
      "source": [],
      "metadata": {
        "id": "Foy9vzmAjpQ5"
      },
      "execution_count": null,
      "outputs": []
    }
  ]
}